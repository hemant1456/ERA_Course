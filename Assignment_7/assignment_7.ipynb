{
 "cells": [
  {
   "cell_type": "code",
   "execution_count": 1,
   "metadata": {},
   "outputs": [],
   "source": [
    "# importing various required libraries\n",
    "import torch \n",
    "from torchvision import datasets, transforms\n",
    "import matplotlib.pyplot as plt\n",
    "import torch.optim as optim\n",
    "import torch.nn as nn\n",
    "import torch.nn.functional as F\n",
    "from torch.utils.data import DataLoader\n",
    "from torchsummary import summary"
   ]
  },
  {
   "cell_type": "code",
   "execution_count": 2,
   "metadata": {},
   "outputs": [],
   "source": [
    "from data_preprocessing import get_data_loaders\n",
    "train_loader, test_loader = get_data_loaders()"
   ]
  },
  {
   "cell_type": "code",
   "execution_count": 3,
   "metadata": {},
   "outputs": [],
   "source": [
    "from Models import Model1"
   ]
  },
  {
   "cell_type": "code",
   "execution_count": 4,
   "metadata": {},
   "outputs": [],
   "source": [
    "device= torch.device('cuda' if torch.cuda.is_available() else 'cpu')\n",
    "model = Model1().to(device)"
   ]
  },
  {
   "cell_type": "code",
   "execution_count": 6,
   "metadata": {},
   "outputs": [
    {
     "name": "stdout",
     "output_type": "stream",
     "text": [
      "----------------------------------------------------------------\n",
      "        Layer (type)               Output Shape         Param #\n",
      "================================================================\n",
      "            Conv2d-1            [-1, 8, 28, 28]              72\n",
      "              ReLU-2            [-1, 8, 28, 28]               0\n",
      "       BatchNorm2d-3            [-1, 8, 28, 28]              16\n",
      "           Dropout-4            [-1, 8, 28, 28]               0\n",
      "            Conv2d-5           [-1, 16, 26, 26]           1,152\n",
      "              ReLU-6           [-1, 16, 26, 26]               0\n",
      "       BatchNorm2d-7           [-1, 16, 26, 26]              32\n",
      "           Dropout-8           [-1, 16, 26, 26]               0\n",
      "         MaxPool2d-9           [-1, 16, 13, 13]               0\n",
      "           Conv2d-10            [-1, 8, 11, 11]           1,152\n",
      "             ReLU-11            [-1, 8, 11, 11]               0\n",
      "      BatchNorm2d-12            [-1, 8, 11, 11]              16\n",
      "          Dropout-13            [-1, 8, 11, 11]               0\n",
      "           Conv2d-14           [-1, 16, 11, 11]           1,152\n",
      "             ReLU-15           [-1, 16, 11, 11]               0\n",
      "      BatchNorm2d-16           [-1, 16, 11, 11]              32\n",
      "          Dropout-17           [-1, 16, 11, 11]               0\n",
      "        MaxPool2d-18             [-1, 16, 5, 5]               0\n",
      "           Conv2d-19              [-1, 8, 3, 3]           1,152\n",
      "             ReLU-20              [-1, 8, 3, 3]               0\n",
      "      BatchNorm2d-21              [-1, 8, 3, 3]              16\n",
      "          Dropout-22              [-1, 8, 3, 3]               0\n",
      "           Conv2d-23             [-1, 10, 1, 1]             720\n",
      "================================================================\n",
      "Total params: 5,512\n",
      "Trainable params: 5,512\n",
      "Non-trainable params: 0\n",
      "----------------------------------------------------------------\n",
      "Input size (MB): 0.00\n",
      "Forward/backward pass size (MB): 0.64\n",
      "Params size (MB): 0.02\n",
      "Estimated Total Size (MB): 0.66\n",
      "----------------------------------------------------------------\n"
     ]
    }
   ],
   "source": [
    "# printing the summary of the model\n",
    "summary(model, input_size=(1, 28, 28))"
   ]
  },
  {
   "cell_type": "code",
   "execution_count": null,
   "metadata": {},
   "outputs": [],
   "source": []
  }
 ],
 "metadata": {
  "kernelspec": {
   "display_name": "base",
   "language": "python",
   "name": "python3"
  },
  "language_info": {
   "codemirror_mode": {
    "name": "ipython",
    "version": 3
   },
   "file_extension": ".py",
   "mimetype": "text/x-python",
   "name": "python",
   "nbconvert_exporter": "python",
   "pygments_lexer": "ipython3",
   "version": "3.9.13"
  },
  "orig_nbformat": 4
 },
 "nbformat": 4,
 "nbformat_minor": 2
}
