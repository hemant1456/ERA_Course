{
 "cells": [
  {
   "cell_type": "code",
   "execution_count": 18,
   "metadata": {},
   "outputs": [],
   "source": [
    "# importing various required libraries\n",
    "import torch \n",
    "from torchvision import datasets, transforms\n",
    "import matplotlib.pyplot as plt\n",
    "import torch.optim as optim\n",
    "import torch.nn as nn\n",
    "import torch.nn.functional as F\n",
    "from torch.utils.data import DataLoader\n",
    "from torchsummary import summary"
   ]
  },
  {
   "cell_type": "code",
   "execution_count": 19,
   "metadata": {},
   "outputs": [],
   "source": [
    "# importing the training and testing data\n",
    "from data_preprocessing import get_data_loaders\n",
    "train_loader, test_loader = get_data_loaders()"
   ]
  },
  {
   "cell_type": "code",
   "execution_count": 20,
   "metadata": {},
   "outputs": [],
   "source": [
    "from Models import Model1"
   ]
  },
  {
   "cell_type": "code",
   "execution_count": 21,
   "metadata": {},
   "outputs": [
    {
     "name": "stdout",
     "output_type": "stream",
     "text": [
      "----------------------------------------------------------------\n",
      "        Layer (type)               Output Shape         Param #\n",
      "================================================================\n",
      "            Conv2d-1            [-1, 8, 28, 28]              72\n",
      "              ReLU-2            [-1, 8, 28, 28]               0\n",
      "       BatchNorm2d-3            [-1, 8, 28, 28]              16\n",
      "           Dropout-4            [-1, 8, 28, 28]               0\n",
      "            Conv2d-5           [-1, 16, 26, 26]           1,152\n",
      "              ReLU-6           [-1, 16, 26, 26]               0\n",
      "       BatchNorm2d-7           [-1, 16, 26, 26]              32\n",
      "           Dropout-8           [-1, 16, 26, 26]               0\n",
      "         MaxPool2d-9           [-1, 16, 13, 13]               0\n",
      "           Conv2d-10            [-1, 8, 11, 11]           1,152\n",
      "             ReLU-11            [-1, 8, 11, 11]               0\n",
      "      BatchNorm2d-12            [-1, 8, 11, 11]              16\n",
      "          Dropout-13            [-1, 8, 11, 11]               0\n",
      "           Conv2d-14           [-1, 16, 11, 11]           1,152\n",
      "             ReLU-15           [-1, 16, 11, 11]               0\n",
      "      BatchNorm2d-16           [-1, 16, 11, 11]              32\n",
      "          Dropout-17           [-1, 16, 11, 11]               0\n",
      "        MaxPool2d-18             [-1, 16, 5, 5]               0\n",
      "           Conv2d-19              [-1, 8, 3, 3]           1,152\n",
      "             ReLU-20              [-1, 8, 3, 3]               0\n",
      "      BatchNorm2d-21              [-1, 8, 3, 3]              16\n",
      "          Dropout-22              [-1, 8, 3, 3]               0\n",
      "           Conv2d-23             [-1, 10, 1, 1]             720\n",
      "================================================================\n",
      "Total params: 5,512\n",
      "Trainable params: 5,512\n",
      "Non-trainable params: 0\n",
      "----------------------------------------------------------------\n",
      "Input size (MB): 0.00\n",
      "Forward/backward pass size (MB): 0.64\n",
      "Params size (MB): 0.02\n",
      "Estimated Total Size (MB): 0.66\n",
      "----------------------------------------------------------------\n"
     ]
    }
   ],
   "source": [
    "device= torch.device('cuda' if torch.cuda.is_available() else 'cpu')\n",
    "model1 = Model1().to(device)\n",
    "# printing the summary of the model\n",
    "summary(model1, input_size=(1, 28, 28))"
   ]
  },
  {
   "cell_type": "code",
   "execution_count": 16,
   "metadata": {},
   "outputs": [],
   "source": [
    "from training import train, test, run"
   ]
  },
  {
   "cell_type": "code",
   "execution_count": 17,
   "metadata": {},
   "outputs": [
    {
     "name": "stdout",
     "output_type": "stream",
     "text": [
      "Epoch: 0 loss is 2.4053962230682373 Accuracy: 6.25\n",
      "Epoch: 0 loss is 0.18276874721050262 Accuracy: 78.48\n",
      "Epoch: 0 loss is 0.10761216282844543 Accuracy: 86.05\n",
      "Epoch: 0 loss is 0.18137557804584503 Accuracy: 89.09\n",
      "Epoch: 0 loss is 0.1162056177854538 Accuracy: 90.75\n",
      "Epoch: 0 loss is 0.08783993124961853 Accuracy: 91.91\n",
      "Epoch: 0 loss is 0.06737913191318512 Accuracy: 92.65\n",
      "Epoch: 0 loss is 0.17200186848640442 Accuracy: 93.26\n",
      "Epoch: 0 loss is 0.06755589693784714 Accuracy: 93.69\n",
      "Epoch: 0 loss is 0.10106299072504044 Accuracy: 94.07\n",
      "Test loss is 0.06136609797477722 and accuracy is 98.11\n",
      "Epoch: 1 loss is 0.08286553621292114 Accuracy: 98.44\n",
      "Epoch: 1 loss is 0.07690075039863586 Accuracy: 97.49\n",
      "Epoch: 1 loss is 0.05393850430846214 Accuracy: 97.43\n",
      "Epoch: 1 loss is 0.021258166059851646 Accuracy: 97.43\n",
      "Epoch: 1 loss is 0.02636500634253025 Accuracy: 97.50\n",
      "Epoch: 1 loss is 0.1220489889383316 Accuracy: 97.49\n",
      "Epoch: 1 loss is 0.032757699489593506 Accuracy: 97.61\n",
      "Epoch: 1 loss is 0.06054062023758888 Accuracy: 97.59\n",
      "Epoch: 1 loss is 0.010974128730595112 Accuracy: 97.65\n",
      "Epoch: 1 loss is 0.04514512047171593 Accuracy: 97.67\n",
      "Test loss is 0.051475011520832774 and accuracy is 98.25\n"
     ]
    }
   ],
   "source": [
    "optimizer= optim.SGD(model1.parameters(),lr=0.01,momentum=0.9)\n",
    "epochs=2\n",
    "run(model1,device,train_loader,test_loader,optimizer,epochs)"
   ]
  },
  {
   "cell_type": "code",
   "execution_count": null,
   "metadata": {},
   "outputs": [],
   "source": []
  },
  {
   "cell_type": "code",
   "execution_count": null,
   "metadata": {},
   "outputs": [],
   "source": []
  }
 ],
 "metadata": {
  "kernelspec": {
   "display_name": "base",
   "language": "python",
   "name": "python3"
  },
  "language_info": {
   "codemirror_mode": {
    "name": "ipython",
    "version": 3
   },
   "file_extension": ".py",
   "mimetype": "text/x-python",
   "name": "python",
   "nbconvert_exporter": "python",
   "pygments_lexer": "ipython3",
   "version": "3.9.13"
  },
  "orig_nbformat": 4
 },
 "nbformat": 4,
 "nbformat_minor": 2
}
