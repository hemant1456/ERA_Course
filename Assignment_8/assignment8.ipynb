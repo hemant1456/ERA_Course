{
 "cells": [
  {
   "cell_type": "code",
   "execution_count": 13,
   "metadata": {},
   "outputs": [],
   "source": [
    "import torch\n",
    "import torch.nn as nn\n",
    "import torch.nn.functional as F\n",
    "from torchsummary import summary\n",
    "from torchvision import datasets, transforms\n",
    "import torch.optim as optim\n",
    "from tqdm import tqdm"
   ]
  },
  {
   "cell_type": "code",
   "execution_count": 14,
   "metadata": {},
   "outputs": [],
   "source": [
    "device= torch.device(\"cuda\" if torch.cuda.is_available() else \"cpu\")"
   ]
  },
  {
   "cell_type": "code",
   "execution_count": 15,
   "metadata": {},
   "outputs": [],
   "source": [
    "train_transforms= transforms.Compose([\n",
    "    transforms.ToTensor(),\n",
    "    transforms.Normalize((0.49139968,0.48215841,0.44653091),(0.24703223,0.24348513,0.26158784))\n",
    "])\n",
    "\n",
    "test_transforms= transforms.Compose([\n",
    "    transforms.ToTensor(),\n",
    "    transforms.Normalize((0.49139968,0.48215841,0.44653091),(0.24703223,0.24348513,0.26158784,))\n",
    "])"
   ]
  },
  {
   "cell_type": "code",
   "execution_count": 16,
   "metadata": {},
   "outputs": [
    {
     "name": "stdout",
     "output_type": "stream",
     "text": [
      "Files already downloaded and verified\n",
      "Files already downloaded and verified\n"
     ]
    }
   ],
   "source": [
    "train_data= datasets.CIFAR10(root= '../data', train= True, download= True, transform= train_transforms)\n",
    "test_data= datasets.CIFAR10(root= '../data', train= False, download= True, transform= test_transforms)"
   ]
  },
  {
   "cell_type": "code",
   "execution_count": 17,
   "metadata": {},
   "outputs": [],
   "source": [
    "dataloader_args= dict(shuffle= True, batch_size= 128, num_workers= 4, pin_memory= True) if torch.cuda.is_available() else dict(shuffle= True, batch_size= 64)"
   ]
  },
  {
   "cell_type": "code",
   "execution_count": 18,
   "metadata": {},
   "outputs": [],
   "source": [
    "train_loader= torch.utils.data.DataLoader(train_data, **dataloader_args)\n",
    "test_loader= torch.utils.data.DataLoader(test_data, **dataloader_args)"
   ]
  },
  {
   "cell_type": "code",
   "execution_count": 19,
   "metadata": {},
   "outputs": [],
   "source": [
    "# print(train_data.data.shape)\n",
    "# print(train_data.data.mean(axis=(0,1,2))/255)\n",
    "# print(train_data.data.std(axis=(0,1,2))/255)\n",
    "\n",
    "# (50000, 32, 32, 3)\n",
    "# [0.49139968 0.48215841 0.44653091]\n",
    "# [0.24703223 0.24348513 0.26158784]"
   ]
  },
  {
   "cell_type": "code",
   "execution_count": 20,
   "metadata": {},
   "outputs": [],
   "source": [
    "from model import Model_batch_norm"
   ]
  },
  {
   "cell_type": "code",
   "execution_count": 21,
   "metadata": {},
   "outputs": [],
   "source": [
    "model= Model_batch_norm().to(device)"
   ]
  },
  {
   "cell_type": "code",
   "execution_count": 22,
   "metadata": {},
   "outputs": [
    {
     "name": "stdout",
     "output_type": "stream",
     "text": [
      "----------------------------------------------------------------\n",
      "        Layer (type)               Output Shape         Param #\n",
      "================================================================\n",
      "            Conv2d-1            [-1, 8, 30, 30]             216\n",
      "              ReLU-2            [-1, 8, 30, 30]               0\n",
      "       BatchNorm2d-3            [-1, 8, 30, 30]              16\n",
      "           Dropout-4            [-1, 8, 30, 30]               0\n",
      "            Conv2d-5           [-1, 16, 28, 28]           1,152\n",
      "              ReLU-6           [-1, 16, 28, 28]               0\n",
      "       BatchNorm2d-7           [-1, 16, 28, 28]              32\n",
      "           Dropout-8           [-1, 16, 28, 28]               0\n",
      "         MaxPool2d-9           [-1, 16, 14, 14]               0\n",
      "           Conv2d-10           [-1, 32, 12, 12]           4,608\n",
      "             ReLU-11           [-1, 32, 12, 12]               0\n",
      "      BatchNorm2d-12           [-1, 32, 12, 12]              64\n",
      "          Dropout-13           [-1, 32, 12, 12]               0\n",
      "           Conv2d-14           [-1, 64, 10, 10]          18,432\n",
      "             ReLU-15           [-1, 64, 10, 10]               0\n",
      "      BatchNorm2d-16           [-1, 64, 10, 10]             128\n",
      "          Dropout-17           [-1, 64, 10, 10]               0\n",
      "        MaxPool2d-18             [-1, 64, 5, 5]               0\n",
      "           Conv2d-19            [-1, 128, 3, 3]          73,728\n",
      "             ReLU-20            [-1, 128, 3, 3]               0\n",
      "      BatchNorm2d-21            [-1, 128, 3, 3]             256\n",
      "          Dropout-22            [-1, 128, 3, 3]               0\n",
      "           Conv2d-23             [-1, 10, 1, 1]          11,520\n",
      "             ReLU-24             [-1, 10, 1, 1]               0\n",
      "      BatchNorm2d-25             [-1, 10, 1, 1]              20\n",
      "          Dropout-26             [-1, 10, 1, 1]               0\n",
      "================================================================\n",
      "Total params: 110,172\n",
      "Trainable params: 110,172\n",
      "Non-trainable params: 0\n",
      "----------------------------------------------------------------\n",
      "Input size (MB): 0.01\n",
      "Forward/backward pass size (MB): 1.01\n",
      "Params size (MB): 0.42\n",
      "Estimated Total Size (MB): 1.44\n",
      "----------------------------------------------------------------\n"
     ]
    }
   ],
   "source": [
    "summary(model, input_size=(3,32,32))"
   ]
  },
  {
   "cell_type": "code",
   "execution_count": 23,
   "metadata": {},
   "outputs": [],
   "source": [
    "from train_test import train, test"
   ]
  },
  {
   "cell_type": "code",
   "execution_count": 24,
   "metadata": {},
   "outputs": [
    {
     "name": "stdout",
     "output_type": "stream",
     "text": [
      "EPOCH: 1\n"
     ]
    },
    {
     "name": "stderr",
     "output_type": "stream",
     "text": [
      "Loss=1.2983767986297607 Accuracy=43.86:   0%|          | 0/782 [00:51<?, ?it/s]\n"
     ]
    },
    {
     "name": "stdout",
     "output_type": "stream",
     "text": [
      "\n",
      "Test set: Average loss: 1.2455, Accuracy: 5702/10000 (57.02%)\n",
      "\n",
      "EPOCH: 2\n"
     ]
    },
    {
     "name": "stderr",
     "output_type": "stream",
     "text": [
      "Loss=1.653468370437622 Accuracy=57.62:   0%|          | 0/782 [00:53<?, ?it/s] \n"
     ]
    },
    {
     "name": "stdout",
     "output_type": "stream",
     "text": [
      "\n",
      "Test set: Average loss: 0.9868, Accuracy: 6670/10000 (66.70%)\n",
      "\n",
      "EPOCH: 3\n"
     ]
    },
    {
     "name": "stderr",
     "output_type": "stream",
     "text": [
      "Loss=1.151058316230774 Accuracy=62.68:   0%|          | 0/782 [00:55<?, ?it/s] \n"
     ]
    },
    {
     "name": "stdout",
     "output_type": "stream",
     "text": [
      "\n",
      "Test set: Average loss: 0.9077, Accuracy: 6884/10000 (68.84%)\n",
      "\n",
      "EPOCH: 4\n"
     ]
    },
    {
     "name": "stderr",
     "output_type": "stream",
     "text": [
      "Loss=1.2888531684875488 Accuracy=65.87:   0%|          | 0/782 [00:54<?, ?it/s]\n"
     ]
    },
    {
     "name": "stdout",
     "output_type": "stream",
     "text": [
      "\n",
      "Test set: Average loss: 0.8721, Accuracy: 7012/10000 (70.12%)\n",
      "\n",
      "EPOCH: 5\n"
     ]
    },
    {
     "name": "stderr",
     "output_type": "stream",
     "text": [
      "Loss=1.45817232131958 Accuracy=67.92:   0%|          | 0/782 [00:54<?, ?it/s]  \n"
     ]
    },
    {
     "name": "stdout",
     "output_type": "stream",
     "text": [
      "\n",
      "Test set: Average loss: 0.7986, Accuracy: 7269/10000 (72.69%)\n",
      "\n"
     ]
    }
   ],
   "source": [
    "epochs=5\n",
    "optimizer= optim.SGD(model.parameters(), lr=0.01, momentum=0.9)\n",
    "# train_losses= []\n",
    "# test_losses= []\n",
    "# train_acc= []\n",
    "# test_acc= []\n",
    "for i in range(1,epochs+1):\n",
    "    print(\"EPOCH:\", i)\n",
    "    train(model, device, train_loader, optimizer)\n",
    "    test(model, device, test_loader)"
   ]
  },
  {
   "cell_type": "code",
   "execution_count": null,
   "metadata": {},
   "outputs": [],
   "source": []
  }
 ],
 "metadata": {
  "kernelspec": {
   "display_name": "base",
   "language": "python",
   "name": "python3"
  },
  "language_info": {
   "codemirror_mode": {
    "name": "ipython",
    "version": 3
   },
   "file_extension": ".py",
   "mimetype": "text/x-python",
   "name": "python",
   "nbconvert_exporter": "python",
   "pygments_lexer": "ipython3",
   "version": "3.9.13"
  },
  "orig_nbformat": 4
 },
 "nbformat": 4,
 "nbformat_minor": 2
}
