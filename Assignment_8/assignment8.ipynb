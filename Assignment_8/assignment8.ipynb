{
 "cells": [
  {
   "cell_type": "code",
   "execution_count": 1,
   "metadata": {},
   "outputs": [],
   "source": [
    "import torch\n",
    "import torch.nn as nn\n",
    "import torch.nn.functional as F\n",
    "from torchsummary import summary\n",
    "from torchvision import datasets, transforms\n",
    "import torch.optim as optim\n",
    "from tqdm import tqdm"
   ]
  },
  {
   "cell_type": "code",
   "execution_count": 2,
   "metadata": {},
   "outputs": [],
   "source": [
    "device= torch.device(\"cuda\" if torch.cuda.is_available() else \"cpu\")"
   ]
  },
  {
   "cell_type": "code",
   "execution_count": 3,
   "metadata": {},
   "outputs": [],
   "source": [
    "train_transforms= transforms.Compose([\n",
    "    transforms.ToTensor(),\n",
    "    transforms.Normalize((0.49139968,0.48215841,0.44653091),(0.24703223,0.24348513,0.26158784))\n",
    "])\n",
    "\n",
    "test_transforms= transforms.Compose([\n",
    "    transforms.ToTensor(),\n",
    "    transforms.Normalize((0.49139968,0.48215841,0.44653091),(0.24703223,0.24348513,0.26158784,))\n",
    "])"
   ]
  },
  {
   "cell_type": "code",
   "execution_count": 4,
   "metadata": {},
   "outputs": [
    {
     "name": "stdout",
     "output_type": "stream",
     "text": [
      "Files already downloaded and verified\n",
      "Files already downloaded and verified\n"
     ]
    }
   ],
   "source": [
    "train_data= datasets.CIFAR10(root= '../data', train= True, download= True, transform= train_transforms)\n",
    "test_data= datasets.CIFAR10(root= '../data', train= False, download= True, transform= test_transforms)"
   ]
  },
  {
   "cell_type": "code",
   "execution_count": 5,
   "metadata": {},
   "outputs": [],
   "source": [
    "dataloader_args= dict(shuffle= True, batch_size= 128, num_workers= 4, pin_memory= True) if torch.cuda.is_available() else dict(shuffle= True, batch_size= 64)"
   ]
  },
  {
   "cell_type": "code",
   "execution_count": 6,
   "metadata": {},
   "outputs": [],
   "source": [
    "train_loader= torch.utils.data.DataLoader(train_data, **dataloader_args)\n",
    "test_loader= torch.utils.data.DataLoader(test_data, **dataloader_args)"
   ]
  },
  {
   "cell_type": "code",
   "execution_count": 7,
   "metadata": {},
   "outputs": [],
   "source": [
    "# print(train_data.data.shape)\n",
    "# print(train_data.data.mean(axis=(0,1,2))/255)\n",
    "# print(train_data.data.std(axis=(0,1,2))/255)\n",
    "\n",
    "# (50000, 32, 32, 3)\n",
    "# [0.49139968 0.48215841 0.44653091]\n",
    "# [0.24703223 0.24348513 0.26158784]"
   ]
  },
  {
   "cell_type": "code",
   "execution_count": 8,
   "metadata": {},
   "outputs": [],
   "source": [
    "from model import Model_batch_norm,Model_group_norm,Model_layer_norm"
   ]
  },
  {
   "cell_type": "code",
   "execution_count": 12,
   "metadata": {},
   "outputs": [
    {
     "name": "stdout",
     "output_type": "stream",
     "text": [
      "----------------------------------------------------------------\n",
      "        Layer (type)               Output Shape         Param #\n",
      "================================================================\n",
      "            Conv2d-1           [-1, 16, 32, 32]             432\n",
      "              ReLU-2           [-1, 16, 32, 32]               0\n",
      "       BatchNorm2d-3           [-1, 16, 32, 32]              32\n",
      "            Conv2d-4           [-1, 32, 32, 32]           4,608\n",
      "              ReLU-5           [-1, 32, 32, 32]               0\n",
      "       BatchNorm2d-6           [-1, 32, 32, 32]              64\n",
      "            Conv2d-7           [-1, 16, 34, 34]             512\n",
      "              ReLU-8           [-1, 16, 34, 34]               0\n",
      "       BatchNorm2d-9           [-1, 16, 34, 34]              32\n",
      "        MaxPool2d-10           [-1, 16, 17, 17]               0\n",
      "           Conv2d-11           [-1, 32, 17, 17]           4,608\n",
      "             ReLU-12           [-1, 32, 17, 17]               0\n",
      "      BatchNorm2d-13           [-1, 32, 17, 17]              64\n",
      "           Conv2d-14           [-1, 32, 17, 17]           9,216\n",
      "             ReLU-15           [-1, 32, 17, 17]               0\n",
      "      BatchNorm2d-16           [-1, 32, 17, 17]              64\n",
      "           Conv2d-17           [-1, 32, 17, 17]           9,216\n",
      "             ReLU-18           [-1, 32, 17, 17]               0\n",
      "      BatchNorm2d-19           [-1, 32, 17, 17]              64\n",
      "           Conv2d-20           [-1, 16, 19, 19]             512\n",
      "             ReLU-21           [-1, 16, 19, 19]               0\n",
      "      BatchNorm2d-22           [-1, 16, 19, 19]              32\n",
      "        MaxPool2d-23             [-1, 16, 9, 9]               0\n",
      "           Conv2d-24             [-1, 32, 7, 7]           4,608\n",
      "             ReLU-25             [-1, 32, 7, 7]               0\n",
      "      BatchNorm2d-26             [-1, 32, 7, 7]              64\n",
      "           Conv2d-27             [-1, 32, 5, 5]           9,216\n",
      "             ReLU-28             [-1, 32, 5, 5]               0\n",
      "      BatchNorm2d-29             [-1, 32, 5, 5]              64\n",
      "           Conv2d-30             [-1, 64, 3, 3]          18,432\n",
      "             ReLU-31             [-1, 64, 3, 3]               0\n",
      "      BatchNorm2d-32             [-1, 64, 3, 3]             128\n",
      "AdaptiveAvgPool2d-33             [-1, 64, 1, 1]               0\n",
      "           Conv2d-34             [-1, 10, 1, 1]             640\n",
      "================================================================\n",
      "Total params: 62,608\n",
      "Trainable params: 62,608\n",
      "Non-trainable params: 0\n",
      "----------------------------------------------------------------\n",
      "Input size (MB): 0.01\n",
      "Forward/backward pass size (MB): 2.43\n",
      "Params size (MB): 0.24\n",
      "Estimated Total Size (MB): 2.68\n",
      "----------------------------------------------------------------\n"
     ]
    },
    {
     "name": "stderr",
     "output_type": "stream",
     "text": [
      "/Users/hemant/Documents/Deep_Learning_Courses/ERA_Course/Assignment_8/model.py:79: UserWarning: Implicit dimension choice for log_softmax has been deprecated. Change the call to include dim=X as an argument.\n",
      "  return F.log_softmax(x)\n"
     ]
    }
   ],
   "source": [
    "model_b= Model_batch_norm().to(device)\n",
    "summary(model_b, input_size=(3,32,32))"
   ]
  },
  {
   "cell_type": "code",
   "execution_count": 11,
   "metadata": {},
   "outputs": [],
   "source": [
    "from train_test import train, test"
   ]
  },
  {
   "cell_type": "code",
   "execution_count": 14,
   "metadata": {},
   "outputs": [
    {
     "name": "stdout",
     "output_type": "stream",
     "text": [
      "EPOCH: 1\n"
     ]
    },
    {
     "name": "stderr",
     "output_type": "stream",
     "text": [
      "  0%|          | 0/782 [00:00<?, ?it/s]/Users/hemant/Documents/Deep_Learning_Courses/ERA_Course/Assignment_8/model.py:79: UserWarning: Implicit dimension choice for log_softmax has been deprecated. Change the call to include dim=X as an argument.\n",
      "  return F.log_softmax(x)\n",
      "Loss=1.496031403541565 Accuracy=51.48: 100%|██████████| 782/782 [01:47<00:00,  7.26it/s] \n"
     ]
    },
    {
     "name": "stdout",
     "output_type": "stream",
     "text": [
      "\n",
      "Test set: Average loss: 1.1378, Accuracy: 6026/10000 (60.26%)\n",
      "\n",
      "EPOCH: 2\n"
     ]
    },
    {
     "name": "stderr",
     "output_type": "stream",
     "text": [
      "Loss=0.6969391107559204 Accuracy=67.17: 100%|██████████| 782/782 [01:49<00:00,  7.11it/s]\n"
     ]
    },
    {
     "name": "stdout",
     "output_type": "stream",
     "text": [
      "\n",
      "Test set: Average loss: 0.8992, Accuracy: 6830/10000 (68.30%)\n",
      "\n",
      "EPOCH: 3\n"
     ]
    },
    {
     "name": "stderr",
     "output_type": "stream",
     "text": [
      "Loss=1.200422763824463 Accuracy=72.73: 100%|██████████| 782/782 [01:51<00:00,  7.03it/s] \n"
     ]
    },
    {
     "name": "stdout",
     "output_type": "stream",
     "text": [
      "\n",
      "Test set: Average loss: 0.7480, Accuracy: 7409/10000 (74.09%)\n",
      "\n",
      "EPOCH: 4\n"
     ]
    },
    {
     "name": "stderr",
     "output_type": "stream",
     "text": [
      "Loss=0.8028671145439148 Accuracy=75.71: 100%|██████████| 782/782 [01:54<00:00,  6.84it/s] \n"
     ]
    },
    {
     "name": "stdout",
     "output_type": "stream",
     "text": [
      "\n",
      "Test set: Average loss: 0.7092, Accuracy: 7568/10000 (75.68%)\n",
      "\n",
      "EPOCH: 5\n"
     ]
    },
    {
     "name": "stderr",
     "output_type": "stream",
     "text": [
      "Loss=0.4368749260902405 Accuracy=77.97: 100%|██████████| 782/782 [01:53<00:00,  6.91it/s] \n"
     ]
    },
    {
     "name": "stdout",
     "output_type": "stream",
     "text": [
      "\n",
      "Test set: Average loss: 0.6828, Accuracy: 7655/10000 (76.55%)\n",
      "\n"
     ]
    }
   ],
   "source": [
    "epochs=5\n",
    "optimizer= optim.SGD(model_b.parameters(), lr=0.01, momentum=0.9)\n",
    "for i in range(1,epochs+1):\n",
    "    print(\"EPOCH:\", i)\n",
    "    train(model_b, device, train_loader, optimizer)\n",
    "    test(model_b, device, test_loader)"
   ]
  },
  {
   "cell_type": "code",
   "execution_count": 16,
   "metadata": {},
   "outputs": [
    {
     "name": "stdout",
     "output_type": "stream",
     "text": [
      "----------------------------------------------------------------\n",
      "        Layer (type)               Output Shape         Param #\n",
      "================================================================\n",
      "            Conv2d-1           [-1, 16, 32, 32]             432\n",
      "              ReLU-2           [-1, 16, 32, 32]               0\n",
      "         GroupNorm-3           [-1, 16, 32, 32]              32\n",
      "            Conv2d-4           [-1, 32, 32, 32]           4,608\n",
      "              ReLU-5           [-1, 32, 32, 32]               0\n",
      "         GroupNorm-6           [-1, 32, 32, 32]              64\n",
      "            Conv2d-7           [-1, 16, 34, 34]             512\n",
      "              ReLU-8           [-1, 16, 34, 34]               0\n",
      "         GroupNorm-9           [-1, 16, 34, 34]              32\n",
      "        MaxPool2d-10           [-1, 16, 17, 17]               0\n",
      "           Conv2d-11           [-1, 32, 17, 17]           4,608\n",
      "             ReLU-12           [-1, 32, 17, 17]               0\n",
      "        GroupNorm-13           [-1, 32, 17, 17]              64\n",
      "           Conv2d-14           [-1, 32, 17, 17]           9,216\n",
      "             ReLU-15           [-1, 32, 17, 17]               0\n",
      "        GroupNorm-16           [-1, 32, 17, 17]              64\n",
      "           Conv2d-17           [-1, 32, 17, 17]           9,216\n",
      "             ReLU-18           [-1, 32, 17, 17]               0\n",
      "        GroupNorm-19           [-1, 32, 17, 17]              64\n",
      "           Conv2d-20           [-1, 16, 19, 19]             512\n",
      "             ReLU-21           [-1, 16, 19, 19]               0\n",
      "        GroupNorm-22           [-1, 16, 19, 19]              32\n",
      "        MaxPool2d-23             [-1, 16, 9, 9]               0\n",
      "           Conv2d-24             [-1, 32, 7, 7]           4,608\n",
      "             ReLU-25             [-1, 32, 7, 7]               0\n",
      "        GroupNorm-26             [-1, 32, 7, 7]              64\n",
      "           Conv2d-27             [-1, 32, 5, 5]           9,216\n",
      "             ReLU-28             [-1, 32, 5, 5]               0\n",
      "        GroupNorm-29             [-1, 32, 5, 5]              64\n",
      "           Conv2d-30             [-1, 64, 3, 3]          18,432\n",
      "             ReLU-31             [-1, 64, 3, 3]               0\n",
      "        GroupNorm-32             [-1, 64, 3, 3]             128\n",
      "AdaptiveAvgPool2d-33             [-1, 64, 1, 1]               0\n",
      "           Conv2d-34             [-1, 10, 1, 1]             640\n",
      "================================================================\n",
      "Total params: 62,608\n",
      "Trainable params: 62,608\n",
      "Non-trainable params: 0\n",
      "----------------------------------------------------------------\n",
      "Input size (MB): 0.01\n",
      "Forward/backward pass size (MB): 2.43\n",
      "Params size (MB): 0.24\n",
      "Estimated Total Size (MB): 2.68\n",
      "----------------------------------------------------------------\n"
     ]
    },
    {
     "name": "stderr",
     "output_type": "stream",
     "text": [
      "/Users/hemant/Documents/Deep_Learning_Courses/ERA_Course/Assignment_8/model.py:157: UserWarning: Implicit dimension choice for log_softmax has been deprecated. Change the call to include dim=X as an argument.\n",
      "  return F.log_softmax(x)\n"
     ]
    }
   ],
   "source": [
    "model_g= Model_group_norm().to(device)\n",
    "summary(model_g, input_size=(3,32,32))"
   ]
  },
  {
   "cell_type": "code",
   "execution_count": 19,
   "metadata": {},
   "outputs": [
    {
     "name": "stdout",
     "output_type": "stream",
     "text": [
      "EPOCH: 1\n"
     ]
    },
    {
     "name": "stderr",
     "output_type": "stream",
     "text": [
      "Loss=1.2023046016693115 Accuracy=47.12: 100%|██████████| 782/782 [01:42<00:00,  7.66it/s]\n"
     ]
    },
    {
     "name": "stdout",
     "output_type": "stream",
     "text": [
      "\n",
      "Test set: Average loss: 1.2135, Accuracy: 5650/10000 (56.50%)\n",
      "\n",
      "EPOCH: 2\n"
     ]
    },
    {
     "name": "stderr",
     "output_type": "stream",
     "text": [
      "Loss=0.9720831513404846 Accuracy=63.17: 100%|██████████| 782/782 [01:44<00:00,  7.48it/s]\n"
     ]
    },
    {
     "name": "stdout",
     "output_type": "stream",
     "text": [
      "\n",
      "Test set: Average loss: 1.0278, Accuracy: 6421/10000 (64.21%)\n",
      "\n",
      "EPOCH: 3\n"
     ]
    },
    {
     "name": "stderr",
     "output_type": "stream",
     "text": [
      "Loss=1.1946169137954712 Accuracy=69.81: 100%|██████████| 782/782 [01:45<00:00,  7.39it/s]\n"
     ]
    },
    {
     "name": "stdout",
     "output_type": "stream",
     "text": [
      "\n",
      "Test set: Average loss: 0.8806, Accuracy: 6936/10000 (69.36%)\n",
      "\n",
      "EPOCH: 4\n"
     ]
    },
    {
     "name": "stderr",
     "output_type": "stream",
     "text": [
      "Loss=0.727527379989624 Accuracy=73.37: 100%|██████████| 782/782 [01:46<00:00,  7.33it/s]  \n"
     ]
    },
    {
     "name": "stdout",
     "output_type": "stream",
     "text": [
      "\n",
      "Test set: Average loss: 0.8095, Accuracy: 7198/10000 (71.98%)\n",
      "\n",
      "EPOCH: 5\n"
     ]
    },
    {
     "name": "stderr",
     "output_type": "stream",
     "text": [
      "Loss=0.7859549522399902 Accuracy=76.42: 100%|██████████| 782/782 [01:49<00:00,  7.16it/s] \n"
     ]
    },
    {
     "name": "stdout",
     "output_type": "stream",
     "text": [
      "\n",
      "Test set: Average loss: 0.7362, Accuracy: 7460/10000 (74.60%)\n",
      "\n"
     ]
    }
   ],
   "source": [
    "epochs=5\n",
    "optimizer= optim.SGD(model_g.parameters(), lr=0.01, momentum=0.9)\n",
    "for i in range(1,epochs+1):\n",
    "    print(\"EPOCH:\", i)\n",
    "    train(model_g, device, train_loader, optimizer)\n",
    "    test(model_g, device, test_loader)"
   ]
  },
  {
   "cell_type": "code",
   "execution_count": 9,
   "metadata": {},
   "outputs": [
    {
     "name": "stdout",
     "output_type": "stream",
     "text": [
      "----------------------------------------------------------------\n",
      "        Layer (type)               Output Shape         Param #\n",
      "================================================================\n",
      "            Conv2d-1           [-1, 16, 32, 32]             432\n",
      "              ReLU-2           [-1, 16, 32, 32]               0\n",
      "         GroupNorm-3           [-1, 16, 32, 32]              32\n",
      "            Conv2d-4           [-1, 32, 32, 32]           4,608\n",
      "              ReLU-5           [-1, 32, 32, 32]               0\n",
      "         GroupNorm-6           [-1, 32, 32, 32]              64\n",
      "            Conv2d-7           [-1, 16, 34, 34]             512\n",
      "              ReLU-8           [-1, 16, 34, 34]               0\n",
      "         GroupNorm-9           [-1, 16, 34, 34]              32\n",
      "        MaxPool2d-10           [-1, 16, 17, 17]               0\n",
      "           Conv2d-11           [-1, 32, 17, 17]           4,608\n",
      "             ReLU-12           [-1, 32, 17, 17]               0\n",
      "        GroupNorm-13           [-1, 32, 17, 17]              64\n",
      "           Conv2d-14           [-1, 32, 17, 17]           9,216\n",
      "             ReLU-15           [-1, 32, 17, 17]               0\n",
      "        GroupNorm-16           [-1, 32, 17, 17]              64\n",
      "           Conv2d-17           [-1, 32, 17, 17]           9,216\n",
      "             ReLU-18           [-1, 32, 17, 17]               0\n",
      "        GroupNorm-19           [-1, 32, 17, 17]              64\n",
      "           Conv2d-20           [-1, 16, 19, 19]             512\n",
      "             ReLU-21           [-1, 16, 19, 19]               0\n",
      "        GroupNorm-22           [-1, 16, 19, 19]              32\n",
      "        MaxPool2d-23             [-1, 16, 9, 9]               0\n",
      "           Conv2d-24             [-1, 32, 7, 7]           4,608\n",
      "             ReLU-25             [-1, 32, 7, 7]               0\n",
      "        GroupNorm-26             [-1, 32, 7, 7]              64\n",
      "           Conv2d-27             [-1, 32, 5, 5]           9,216\n",
      "             ReLU-28             [-1, 32, 5, 5]               0\n",
      "        GroupNorm-29             [-1, 32, 5, 5]              64\n",
      "           Conv2d-30             [-1, 64, 3, 3]          18,432\n",
      "             ReLU-31             [-1, 64, 3, 3]               0\n",
      "        GroupNorm-32             [-1, 64, 3, 3]             128\n",
      "AdaptiveAvgPool2d-33             [-1, 64, 1, 1]               0\n",
      "           Conv2d-34             [-1, 10, 1, 1]             640\n",
      "================================================================\n",
      "Total params: 62,608\n",
      "Trainable params: 62,608\n",
      "Non-trainable params: 0\n",
      "----------------------------------------------------------------\n",
      "Input size (MB): 0.01\n",
      "Forward/backward pass size (MB): 2.43\n",
      "Params size (MB): 0.24\n",
      "Estimated Total Size (MB): 2.68\n",
      "----------------------------------------------------------------\n"
     ]
    },
    {
     "name": "stderr",
     "output_type": "stream",
     "text": [
      "/Users/hemant/Documents/Deep_Learning_Courses/ERA_Course/Assignment_8/model.py:236: UserWarning: Implicit dimension choice for log_softmax has been deprecated. Change the call to include dim=X as an argument.\n",
      "  return F.log_softmax(x)\n"
     ]
    }
   ],
   "source": [
    "model_l= Model_layer_norm().to(device)\n",
    "summary(model_l, input_size=(3,32,32))"
   ]
  },
  {
   "cell_type": "code",
   "execution_count": 12,
   "metadata": {},
   "outputs": [
    {
     "name": "stdout",
     "output_type": "stream",
     "text": [
      "EPOCH: 1\n"
     ]
    },
    {
     "name": "stderr",
     "output_type": "stream",
     "text": [
      "Loss=0.8980305194854736 Accuracy=44.00: 100%|██████████| 782/782 [01:42<00:00,  7.61it/s]\n"
     ]
    },
    {
     "name": "stdout",
     "output_type": "stream",
     "text": [
      "\n",
      "Test set: Average loss: 1.2486, Accuracy: 5531/10000 (55.31%)\n",
      "\n",
      "EPOCH: 2\n"
     ]
    },
    {
     "name": "stderr",
     "output_type": "stream",
     "text": [
      "Loss=1.0875978469848633 Accuracy=61.37: 100%|██████████| 782/782 [01:48<00:00,  7.21it/s]\n"
     ]
    },
    {
     "name": "stdout",
     "output_type": "stream",
     "text": [
      "\n",
      "Test set: Average loss: 0.9766, Accuracy: 6534/10000 (65.34%)\n",
      "\n",
      "EPOCH: 3\n"
     ]
    },
    {
     "name": "stderr",
     "output_type": "stream",
     "text": [
      "Loss=0.5845539569854736 Accuracy=68.61: 100%|██████████| 782/782 [01:47<00:00,  7.28it/s]\n"
     ]
    },
    {
     "name": "stdout",
     "output_type": "stream",
     "text": [
      "\n",
      "Test set: Average loss: 0.8717, Accuracy: 6991/10000 (69.91%)\n",
      "\n",
      "EPOCH: 4\n"
     ]
    },
    {
     "name": "stderr",
     "output_type": "stream",
     "text": [
      "Loss=0.7025521397590637 Accuracy=72.88: 100%|██████████| 782/782 [01:47<00:00,  7.27it/s] \n"
     ]
    },
    {
     "name": "stdout",
     "output_type": "stream",
     "text": [
      "\n",
      "Test set: Average loss: 0.8137, Accuracy: 7199/10000 (71.99%)\n",
      "\n",
      "EPOCH: 5\n"
     ]
    },
    {
     "name": "stderr",
     "output_type": "stream",
     "text": [
      "Loss=0.6720433831214905 Accuracy=75.57: 100%|██████████| 782/782 [01:47<00:00,  7.29it/s] \n"
     ]
    },
    {
     "name": "stdout",
     "output_type": "stream",
     "text": [
      "\n",
      "Test set: Average loss: 0.7550, Accuracy: 7367/10000 (73.67%)\n",
      "\n"
     ]
    }
   ],
   "source": [
    "epochs=5\n",
    "optimizer= optim.SGD(model_l.parameters(), lr=0.01, momentum=0.9)\n",
    "for i in range(1,epochs+1):\n",
    "    print(\"EPOCH:\", i)\n",
    "    train(model_l, device, train_loader, optimizer)\n",
    "    test(model_l, device, test_loader)"
   ]
  },
  {
   "cell_type": "code",
   "execution_count": 13,
   "metadata": {},
   "outputs": [],
   "source": []
  }
 ],
 "metadata": {
  "kernelspec": {
   "display_name": "base",
   "language": "python",
   "name": "python3"
  },
  "language_info": {
   "codemirror_mode": {
    "name": "ipython",
    "version": 3
   },
   "file_extension": ".py",
   "mimetype": "text/x-python",
   "name": "python",
   "nbconvert_exporter": "python",
   "pygments_lexer": "ipython3",
   "version": "3.9.13"
  },
  "orig_nbformat": 4
 },
 "nbformat": 4,
 "nbformat_minor": 2
}
